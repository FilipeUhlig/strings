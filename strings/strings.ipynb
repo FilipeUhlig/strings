{
 "cells": [
  {
   "cell_type": "markdown",
   "id": "fb9b319f",
   "metadata": {},
   "source": [
    "# Usando a documentação python"
   ]
  },
  {
   "cell_type": "code",
   "execution_count": 12,
   "id": "409c651b",
   "metadata": {},
   "outputs": [
    {
     "name": "stdout",
     "output_type": "stream",
     "text": [
      "Casa\n"
     ]
    }
   ],
   "source": [
    "# Listagem 1: primeira string\n",
    "\n",
    "primeira_string = \"Casa\"\n",
    "print(primeira_string)"
   ]
  },
  {
   "cell_type": "code",
   "execution_count": 13,
   "id": "27bcce60",
   "metadata": {},
   "outputs": [
    {
     "name": "stdout",
     "output_type": "stream",
     "text": [
      "CASA\n"
     ]
    }
   ],
   "source": [
    "maiusculas_primeira_string = primeira_string.upper()\n",
    "print(maiusculas_primeira_string)"
   ]
  },
  {
   "cell_type": "code",
   "execution_count": 14,
   "id": "4e268f2d",
   "metadata": {},
   "outputs": [
    {
     "name": "stdout",
     "output_type": "stream",
     "text": [
      "casa\n"
     ]
    }
   ],
   "source": [
    "minusculas_primeira_string = primeira_string.lower()\n",
    "print(minusculas_primeira_string)"
   ]
  },
  {
   "cell_type": "code",
   "execution_count": null,
   "id": "515dbfda",
   "metadata": {},
   "outputs": [],
   "source": []
  }
 ],
 "metadata": {
  "kernelspec": {
   "display_name": "Python 3 (ipykernel)",
   "language": "python",
   "name": "python3"
  },
  "language_info": {
   "codemirror_mode": {
    "name": "ipython",
    "version": 3
   },
   "file_extension": ".py",
   "mimetype": "text/x-python",
   "name": "python",
   "nbconvert_exporter": "python",
   "pygments_lexer": "ipython3",
   "version": "3.10.9"
  }
 },
 "nbformat": 4,
 "nbformat_minor": 5
}
